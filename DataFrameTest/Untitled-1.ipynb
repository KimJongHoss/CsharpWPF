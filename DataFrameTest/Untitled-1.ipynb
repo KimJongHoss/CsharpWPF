{
 "cells": [
  {
   "cell_type": "code",
   "execution_count": 1,
   "metadata": {
    "dotnet_interactive": {
     "language": "csharp"
    },
    "polyglot_notebook": {
     "kernelName": "csharp"
    }
   },
   "outputs": [
    {
     "data": {
      "text/html": [
       "<div><div></div><div></div><div><strong>Installed Packages</strong><ul><li><span>Microsoft.Data.Analysis, 0.21.0</span></li></ul></div></div>"
      ]
     },
     "metadata": {},
     "output_type": "display_data"
    },
    {
     "data": {
      "text/plain": [
       "Loading extensions from `C:\\Users\\jongho\\.nuget\\packages\\microsoft.data.analysis\\0.21.0\\interactive-extensions\\dotnet\\Microsoft.Data.Analysis.Interactive.dll`"
      ]
     },
     "metadata": {},
     "output_type": "display_data"
    }
   ],
   "source": [
    "#r \"nuget:Microsoft.Data.Analysis,0.21.0\""
   ]
  },
  {
   "cell_type": "code",
   "execution_count": 2,
   "metadata": {},
   "outputs": [],
   "source": [
    "using Microsoft.Data.Analysis;"
   ]
  },
  {
   "cell_type": "code",
   "execution_count": 4,
   "metadata": {},
   "outputs": [],
   "source": [
    "using System.IO;\n",
    "using System.Linq;\n",
    "\n",
    "// Define data path\n",
    "var dataPath = Path.GetFullPath(@\"prices.csv\");\n",
    "\n",
    "// Load the data into the data frame\n",
    "var dataFrame = DataFrame.LoadCsv(dataPath);"
   ]
  },
  {
   "cell_type": "code",
   "execution_count": 5,
   "metadata": {},
   "outputs": [
    {
     "data": {
      "text/html": [
       "<table id=\"table_638579386772281776\"><thead><tr><th><i>index</i></th><th>Id</th><th>Size</th><th>HistoricalPrice</th><th>CurrentPrice</th></tr></thead><tbody><tr><td><i><div class=\"dni-plaintext\"><pre>0</pre></div></i></td><td><div class=\"dni-plaintext\"><pre>1</pre></div></td><td>600f</td><td><div class=\"dni-plaintext\"><pre>100000</pre></div></td><td><div class=\"dni-plaintext\"><pre>170000</pre></div></td></tr><tr><td><i><div class=\"dni-plaintext\"><pre>1</pre></div></i></td><td><div class=\"dni-plaintext\"><pre>2</pre></div></td><td>1000f</td><td><div class=\"dni-plaintext\"><pre>200000</pre></div></td><td><div class=\"dni-plaintext\"><pre>225000</pre></div></td></tr><tr><td><i><div class=\"dni-plaintext\"><pre>2</pre></div></i></td><td><div class=\"dni-plaintext\"><pre>3</pre></div></td><td>1000f</td><td><div class=\"dni-plaintext\"><pre>126000</pre></div></td><td><div class=\"dni-plaintext\"><pre>195000</pre></div></td></tr><tr><td><i><div class=\"dni-plaintext\"><pre>3</pre></div></i></td><td><div class=\"dni-plaintext\"><pre>4</pre></div></td><td>850f</td><td><div class=\"dni-plaintext\"><pre>150000</pre></div></td><td><div class=\"dni-plaintext\"><pre>205000</pre></div></td></tr><tr><td><i><div class=\"dni-plaintext\"><pre>4</pre></div></i></td><td><div class=\"dni-plaintext\"><pre>5</pre></div></td><td>900f</td><td><div class=\"dni-plaintext\"><pre>155000</pre></div></td><td><div class=\"dni-plaintext\"><pre>210000</pre></div></td></tr><tr><td><i><div class=\"dni-plaintext\"><pre>5</pre></div></i></td><td><div class=\"dni-plaintext\"><pre>6</pre></div></td><td>550f</td><td><div class=\"dni-plaintext\"><pre>99000</pre></div></td><td><div class=\"dni-plaintext\"><pre>180000</pre></div></td></tr></tbody></table><style>\r\n",
       ".dni-code-hint {\r\n",
       "    font-style: italic;\r\n",
       "    overflow: hidden;\r\n",
       "    white-space: nowrap;\r\n",
       "}\r\n",
       ".dni-treeview {\r\n",
       "    white-space: nowrap;\r\n",
       "}\r\n",
       ".dni-treeview td {\r\n",
       "    vertical-align: top;\r\n",
       "    text-align: start;\r\n",
       "}\r\n",
       "details.dni-treeview {\r\n",
       "    padding-left: 1em;\r\n",
       "}\r\n",
       "table td {\r\n",
       "    text-align: start;\r\n",
       "}\r\n",
       "table tr { \r\n",
       "    vertical-align: top; \r\n",
       "    margin: 0em 0px;\r\n",
       "}\r\n",
       "table tr td pre \r\n",
       "{ \r\n",
       "    vertical-align: top !important; \r\n",
       "    margin: 0em 0px !important;\r\n",
       "} \r\n",
       "table th {\r\n",
       "    text-align: start;\r\n",
       "}\r\n",
       "</style>"
      ]
     },
     "metadata": {},
     "output_type": "display_data"
    }
   ],
   "source": [
    "dataFrame"
   ]
  },
  {
   "cell_type": "code",
   "execution_count": 6,
   "metadata": {},
   "outputs": [
    {
     "data": {
      "text/html": [
       "<table id=\"table_638579387822741779\"><thead><tr><th><i>index</i></th><th>Description</th><th>Id</th><th>HistoricalPrice</th><th>CurrentPrice</th></tr></thead><tbody><tr><td><i><div class=\"dni-plaintext\"><pre>0</pre></div></i></td><td>Length (excluding null values)</td><td><div class=\"dni-plaintext\"><pre>6</pre></div></td><td><div class=\"dni-plaintext\"><pre>6</pre></div></td><td><div class=\"dni-plaintext\"><pre>6</pre></div></td></tr><tr><td><i><div class=\"dni-plaintext\"><pre>1</pre></div></i></td><td>Max</td><td><div class=\"dni-plaintext\"><pre>6</pre></div></td><td><div class=\"dni-plaintext\"><pre>200000</pre></div></td><td><div class=\"dni-plaintext\"><pre>225000</pre></div></td></tr><tr><td><i><div class=\"dni-plaintext\"><pre>2</pre></div></i></td><td>Min</td><td><div class=\"dni-plaintext\"><pre>1</pre></div></td><td><div class=\"dni-plaintext\"><pre>99000</pre></div></td><td><div class=\"dni-plaintext\"><pre>170000</pre></div></td></tr><tr><td><i><div class=\"dni-plaintext\"><pre>3</pre></div></i></td><td>Mean</td><td><div class=\"dni-plaintext\"><pre>3.5</pre></div></td><td><div class=\"dni-plaintext\"><pre>138333.33</pre></div></td><td><div class=\"dni-plaintext\"><pre>197500</pre></div></td></tr></tbody></table><style>\r\n",
       ".dni-code-hint {\r\n",
       "    font-style: italic;\r\n",
       "    overflow: hidden;\r\n",
       "    white-space: nowrap;\r\n",
       "}\r\n",
       ".dni-treeview {\r\n",
       "    white-space: nowrap;\r\n",
       "}\r\n",
       ".dni-treeview td {\r\n",
       "    vertical-align: top;\r\n",
       "    text-align: start;\r\n",
       "}\r\n",
       "details.dni-treeview {\r\n",
       "    padding-left: 1em;\r\n",
       "}\r\n",
       "table td {\r\n",
       "    text-align: start;\r\n",
       "}\r\n",
       "table tr { \r\n",
       "    vertical-align: top; \r\n",
       "    margin: 0em 0px;\r\n",
       "}\r\n",
       "table tr td pre \r\n",
       "{ \r\n",
       "    vertical-align: top !important; \r\n",
       "    margin: 0em 0px !important;\r\n",
       "} \r\n",
       "table th {\r\n",
       "    text-align: start;\r\n",
       "}\r\n",
       "</style>"
      ]
     },
     "metadata": {},
     "output_type": "display_data"
    }
   ],
   "source": [
    "dataFrame.Description()"
   ]
  },
  {
   "cell_type": "code",
   "execution_count": 7,
   "metadata": {},
   "outputs": [
    {
     "data": {
      "text/html": [
       "<table id=\"table_638579388113426979\"><thead><tr><th><i>index</i></th><th>Info</th><th>Id</th><th>Size</th><th>HistoricalPrice</th><th>CurrentPrice</th></tr></thead><tbody><tr><td><i><div class=\"dni-plaintext\"><pre>0</pre></div></i></td><td>DataType</td><td>System.Single</td><td>System.String</td><td>System.Single</td><td>System.Single</td></tr><tr><td><i><div class=\"dni-plaintext\"><pre>1</pre></div></i></td><td>Length (excluding null values)</td><td>6</td><td>6</td><td>6</td><td>6</td></tr></tbody></table><style>\r\n",
       ".dni-code-hint {\r\n",
       "    font-style: italic;\r\n",
       "    overflow: hidden;\r\n",
       "    white-space: nowrap;\r\n",
       "}\r\n",
       ".dni-treeview {\r\n",
       "    white-space: nowrap;\r\n",
       "}\r\n",
       ".dni-treeview td {\r\n",
       "    vertical-align: top;\r\n",
       "    text-align: start;\r\n",
       "}\r\n",
       "details.dni-treeview {\r\n",
       "    padding-left: 1em;\r\n",
       "}\r\n",
       "table td {\r\n",
       "    text-align: start;\r\n",
       "}\r\n",
       "table tr { \r\n",
       "    vertical-align: top; \r\n",
       "    margin: 0em 0px;\r\n",
       "}\r\n",
       "table tr td pre \r\n",
       "{ \r\n",
       "    vertical-align: top !important; \r\n",
       "    margin: 0em 0px !important;\r\n",
       "} \r\n",
       "table th {\r\n",
       "    text-align: start;\r\n",
       "}\r\n",
       "</style>"
      ]
     },
     "metadata": {},
     "output_type": "display_data"
    }
   ],
   "source": [
    "dataFrame.Info()"
   ]
  },
  {
   "cell_type": "code",
   "execution_count": 8,
   "metadata": {},
   "outputs": [
    {
     "data": {
      "text/html": [
       "<div><div></div><div></div><div><strong>Installed Packages</strong><ul><li><span>ScottPlot, 5.0.36</span></li></ul></div></div>"
      ]
     },
     "metadata": {},
     "output_type": "display_data"
    },
    {
     "data": {
      "text/plain": [
       "Loading extensions from `C:\\Users\\jongho\\.nuget\\packages\\skiasharp\\2.88.8\\interactive-extensions\\dotnet\\SkiaSharp.DotNet.Interactive.dll`"
      ]
     },
     "metadata": {},
     "output_type": "display_data"
    }
   ],
   "source": [
    "#r \"nuget:ScottPlot, 5.0.36\""
   ]
  },
  {
   "cell_type": "code",
   "execution_count": 9,
   "metadata": {},
   "outputs": [],
   "source": [
    "using Microsoft.DotNet.Interactive.Formatting;\n",
    "Formatter.Register(typeof(ScottPlot.Plot), (p, w) => \n",
    "    w.Write(((ScottPlot.Plot)p).GetImageHtml(400, 300)), HtmlFormatter.MimeType);"
   ]
  },
  {
   "cell_type": "code",
   "execution_count": 10,
   "metadata": {},
   "outputs": [],
   "source": [
    "using ScottPlot;\n",
    "using Microsoft.Data.Analysis;\n",
    "using System;\n",
    "using System.Linq;"
   ]
  },
  {
   "cell_type": "code",
   "execution_count": 11,
   "metadata": {},
   "outputs": [
    {
     "data": {
      "text/html": [
       "<table id=\"table_638579392311695266\"><thead><tr><th><i>index</i></th><th>Temperature</th><th>Humidity</th></tr></thead><tbody><tr><td><i><div class=\"dni-plaintext\"><pre>0</pre></div></i></td><td><div class=\"dni-plaintext\"><pre>-0.9717940566929961</pre></div></td><td><div class=\"dni-plaintext\"><pre>-0.611321213474181</pre></div></td></tr><tr><td><i><div class=\"dni-plaintext\"><pre>1</pre></div></i></td><td><div class=\"dni-plaintext\"><pre>-0.621917613140269</pre></div></td><td><div class=\"dni-plaintext\"><pre>-0.39675396699307197</pre></div></td></tr><tr><td><i><div class=\"dni-plaintext\"><pre>2</pre></div></i></td><td><div class=\"dni-plaintext\"><pre>-0.5337096734595065</pre></div></td><td><div class=\"dni-plaintext\"><pre>-0.2728703656573175</pre></div></td></tr><tr><td><i><div class=\"dni-plaintext\"><pre>3</pre></div></i></td><td><div class=\"dni-plaintext\"><pre>-0.36388235882105424</pre></div></td><td><div class=\"dni-plaintext\"><pre>-0.2469301765071834</pre></div></td></tr><tr><td><i><div class=\"dni-plaintext\"><pre>4</pre></div></i></td><td><div class=\"dni-plaintext\"><pre>0</pre></div></td><td><div class=\"dni-plaintext\"><pre>0</pre></div></td></tr><tr><td><i><div class=\"dni-plaintext\"><pre>5</pre></div></i></td><td><div class=\"dni-plaintext\"><pre>0.2808725653592834</pre></div></td><td><div class=\"dni-plaintext\"><pre>0.4852880618932136</pre></div></td></tr><tr><td><i><div class=\"dni-plaintext\"><pre>6</pre></div></i></td><td><div class=\"dni-plaintext\"><pre>0.29421690632319863</pre></div></td><td><div class=\"dni-plaintext\"><pre>0.5527165939811229</pre></div></td></tr><tr><td><i><div class=\"dni-plaintext\"><pre>7</pre></div></i></td><td><div class=\"dni-plaintext\"><pre>0.37796112027855633</pre></div></td><td><div class=\"dni-plaintext\"><pre>0.578281169560869</pre></div></td></tr><tr><td><i><div class=\"dni-plaintext\"><pre>8</pre></div></i></td><td><div class=\"dni-plaintext\"><pre>0.46395176018772255</pre></div></td><td><div class=\"dni-plaintext\"><pre>0.6515377329902434</pre></div></td></tr><tr><td><i><div class=\"dni-plaintext\"><pre>9</pre></div></i></td><td><div class=\"dni-plaintext\"><pre>0.6204744105322633</pre></div></td><td><div class=\"dni-plaintext\"><pre>1.3773148941701814</pre></div></td></tr></tbody></table><style>\r\n",
       ".dni-code-hint {\r\n",
       "    font-style: italic;\r\n",
       "    overflow: hidden;\r\n",
       "    white-space: nowrap;\r\n",
       "}\r\n",
       ".dni-treeview {\r\n",
       "    white-space: nowrap;\r\n",
       "}\r\n",
       ".dni-treeview td {\r\n",
       "    vertical-align: top;\r\n",
       "    text-align: start;\r\n",
       "}\r\n",
       "details.dni-treeview {\r\n",
       "    padding-left: 1em;\r\n",
       "}\r\n",
       "table td {\r\n",
       "    text-align: start;\r\n",
       "}\r\n",
       "table tr { \r\n",
       "    vertical-align: top; \r\n",
       "    margin: 0em 0px;\r\n",
       "}\r\n",
       "table tr td pre \r\n",
       "{ \r\n",
       "    vertical-align: top !important; \r\n",
       "    margin: 0em 0px !important;\r\n",
       "} \r\n",
       "table th {\r\n",
       "    text-align: start;\r\n",
       "}\r\n",
       "</style>"
      ]
     },
     "metadata": {},
     "output_type": "display_data"
    }
   ],
   "source": [
    "ScottPlot.RandomDataGenerator generator = new ScottPlot.RandomDataGenerator();\n",
    "double[] tempData = generator.RandomWalk(10);\n",
    "double[] humidData = generator.RandomWalk(10);\n",
    "// double[] tempData = Generate.Random(10, 100);\n",
    "// double[] humidData = Generate.Random(10, 100);\n",
    "\n",
    "Array.Sort(tempData);\n",
    "Array.Sort(humidData);\n",
    "\n",
    "DoubleDataFrameColumn colTemp = new DoubleDataFrameColumn(\"Temperature\", tempData);\n",
    "DoubleDataFrameColumn colHumid = new DoubleDataFrameColumn(\"Humidity\", humidData);\n",
    "DataFrameColumn[] columns = { colTemp, colHumid };\n",
    "DataFrame df = new DataFrame(columns);\n",
    "\n",
    "// extract data into double arrays\n",
    "// double[] xs = Enumerable.Range(0, (int)df.Rows.Count).Select(row => Convert.ToDouble(df[\"Temperature\"][row])).ToArray();\n",
    "// double[] ys = Enumerable.Range(0, (int)df.Rows.Count).Select(row => Convert.ToDouble(df[\"Humidity\"][row])).ToArray();\n",
    "double[] xs = df[\"Temperature\"].Cast<double>().ToArray();\n",
    "double[] ys = df[\"Humidity\"].Cast<double>().ToArray();\n",
    "\n",
    "double[] dataX = { 1, 2, 3, 4, 5 };\n",
    "double[] dataY = { 1, 4, 9, 16, 25 };\n",
    "\n",
    "ScottPlot.Plot myPlot = new();\n",
    "myPlot.Add.Scatter(xs, ys);\n",
    "\n",
    "// myPlot.SavePng(\"quickstart.png\", 400, 300); // 이미지로 저장\n",
    "df"
   ]
  },
  {
   "cell_type": "code",
   "execution_count": 12,
   "metadata": {},
   "outputs": [
    {
     "data": {
      "text/html": [
       "<img src=\"data:image/png;base64,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\"></img>"
      ]
     },
     "metadata": {},
     "output_type": "display_data"
    }
   ],
   "source": [
    "myPlot"
   ]
  },
  {
   "cell_type": "code",
   "execution_count": 17,
   "metadata": {},
   "outputs": [
    {
     "data": {
      "text/html": [
       "<img src=\"data:image/png;base64,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\"></img>"
      ]
     },
     "metadata": {},
     "output_type": "display_data"
    }
   ],
   "source": [
    "double[] dataX = { 1, 2, 3, 4, 5 };\n",
    "double[] dataY = { 1, 4, 9, 16, 25 };\n",
    "\n",
    "ScottPlot.Plot myPlot1 = new();\n",
    "myPlot1.Add.Scatter(dataX, dataY);\n",
    "myPlot1"
   ]
  },
  {
   "cell_type": "code",
   "execution_count": null,
   "metadata": {},
   "outputs": [],
   "source": []
  }
 ],
 "metadata": {
  "kernelspec": {
   "display_name": ".NET (C#)",
   "language": "C#",
   "name": ".net-csharp"
  },
  "polyglot_notebook": {
   "kernelInfo": {
    "defaultKernelName": "csharp",
    "items": [
     {
      "aliases": [],
      "languageName": "csharp",
      "name": "csharp"
     }
    ]
   }
  }
 },
 "nbformat": 4,
 "nbformat_minor": 2
}
