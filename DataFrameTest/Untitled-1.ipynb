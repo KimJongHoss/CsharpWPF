{
 "cells": [
  {
   "cell_type": "code",
   "execution_count": 1,
   "metadata": {
    "dotnet_interactive": {
     "language": "csharp"
    },
    "polyglot_notebook": {
     "kernelName": "csharp"
    }
   },
   "outputs": [
    {
     "data": {
      "text/html": [
       "<div><div></div><div></div><div><strong>Installed Packages</strong><ul><li><span>Microsoft.Data.Analysis, 0.21.0</span></li></ul></div></div>"
      ]
     },
     "metadata": {},
     "output_type": "display_data"
    },
    {
     "data": {
      "text/plain": [
       "Loading extensions from `C:\\Users\\jongho\\.nuget\\packages\\microsoft.data.analysis\\0.21.0\\interactive-extensions\\dotnet\\Microsoft.Data.Analysis.Interactive.dll`"
      ]
     },
     "metadata": {},
     "output_type": "display_data"
    }
   ],
   "source": [
    "#r \"nuget:Microsoft.Data.Analysis,0.21.0\""
   ]
  },
  {
   "cell_type": "code",
   "execution_count": 2,
   "metadata": {},
   "outputs": [],
   "source": [
    "using Microsoft.Data.Analysis;"
   ]
  },
  {
   "cell_type": "code",
   "execution_count": 4,
   "metadata": {},
   "outputs": [],
   "source": [
    "using System.IO;\n",
    "using System.Linq;\n",
    "\n",
    "// Define data path\n",
    "var dataPath = Path.GetFullPath(@\"prices.csv\");\n",
    "\n",
    "// Load the data into the data frame\n",
    "var dataFrame = DataFrame.LoadCsv(dataPath);"
   ]
  },
  {
   "cell_type": "code",
   "execution_count": 5,
   "metadata": {},
   "outputs": [
    {
     "data": {
      "text/html": [
       "<table id=\"table_638579386772281776\"><thead><tr><th><i>index</i></th><th>Id</th><th>Size</th><th>HistoricalPrice</th><th>CurrentPrice</th></tr></thead><tbody><tr><td><i><div class=\"dni-plaintext\"><pre>0</pre></div></i></td><td><div class=\"dni-plaintext\"><pre>1</pre></div></td><td>600f</td><td><div class=\"dni-plaintext\"><pre>100000</pre></div></td><td><div class=\"dni-plaintext\"><pre>170000</pre></div></td></tr><tr><td><i><div class=\"dni-plaintext\"><pre>1</pre></div></i></td><td><div class=\"dni-plaintext\"><pre>2</pre></div></td><td>1000f</td><td><div class=\"dni-plaintext\"><pre>200000</pre></div></td><td><div class=\"dni-plaintext\"><pre>225000</pre></div></td></tr><tr><td><i><div class=\"dni-plaintext\"><pre>2</pre></div></i></td><td><div class=\"dni-plaintext\"><pre>3</pre></div></td><td>1000f</td><td><div class=\"dni-plaintext\"><pre>126000</pre></div></td><td><div class=\"dni-plaintext\"><pre>195000</pre></div></td></tr><tr><td><i><div class=\"dni-plaintext\"><pre>3</pre></div></i></td><td><div class=\"dni-plaintext\"><pre>4</pre></div></td><td>850f</td><td><div class=\"dni-plaintext\"><pre>150000</pre></div></td><td><div class=\"dni-plaintext\"><pre>205000</pre></div></td></tr><tr><td><i><div class=\"dni-plaintext\"><pre>4</pre></div></i></td><td><div class=\"dni-plaintext\"><pre>5</pre></div></td><td>900f</td><td><div class=\"dni-plaintext\"><pre>155000</pre></div></td><td><div class=\"dni-plaintext\"><pre>210000</pre></div></td></tr><tr><td><i><div class=\"dni-plaintext\"><pre>5</pre></div></i></td><td><div class=\"dni-plaintext\"><pre>6</pre></div></td><td>550f</td><td><div class=\"dni-plaintext\"><pre>99000</pre></div></td><td><div class=\"dni-plaintext\"><pre>180000</pre></div></td></tr></tbody></table><style>\r\n",
       ".dni-code-hint {\r\n",
       "    font-style: italic;\r\n",
       "    overflow: hidden;\r\n",
       "    white-space: nowrap;\r\n",
       "}\r\n",
       ".dni-treeview {\r\n",
       "    white-space: nowrap;\r\n",
       "}\r\n",
       ".dni-treeview td {\r\n",
       "    vertical-align: top;\r\n",
       "    text-align: start;\r\n",
       "}\r\n",
       "details.dni-treeview {\r\n",
       "    padding-left: 1em;\r\n",
       "}\r\n",
       "table td {\r\n",
       "    text-align: start;\r\n",
       "}\r\n",
       "table tr { \r\n",
       "    vertical-align: top; \r\n",
       "    margin: 0em 0px;\r\n",
       "}\r\n",
       "table tr td pre \r\n",
       "{ \r\n",
       "    vertical-align: top !important; \r\n",
       "    margin: 0em 0px !important;\r\n",
       "} \r\n",
       "table th {\r\n",
       "    text-align: start;\r\n",
       "}\r\n",
       "</style>"
      ]
     },
     "metadata": {},
     "output_type": "display_data"
    }
   ],
   "source": [
    "dataFrame"
   ]
  },
  {
   "cell_type": "code",
   "execution_count": 6,
   "metadata": {},
   "outputs": [
    {
     "data": {
      "text/html": [
       "<table id=\"table_638579387822741779\"><thead><tr><th><i>index</i></th><th>Description</th><th>Id</th><th>HistoricalPrice</th><th>CurrentPrice</th></tr></thead><tbody><tr><td><i><div class=\"dni-plaintext\"><pre>0</pre></div></i></td><td>Length (excluding null values)</td><td><div class=\"dni-plaintext\"><pre>6</pre></div></td><td><div class=\"dni-plaintext\"><pre>6</pre></div></td><td><div class=\"dni-plaintext\"><pre>6</pre></div></td></tr><tr><td><i><div class=\"dni-plaintext\"><pre>1</pre></div></i></td><td>Max</td><td><div class=\"dni-plaintext\"><pre>6</pre></div></td><td><div class=\"dni-plaintext\"><pre>200000</pre></div></td><td><div class=\"dni-plaintext\"><pre>225000</pre></div></td></tr><tr><td><i><div class=\"dni-plaintext\"><pre>2</pre></div></i></td><td>Min</td><td><div class=\"dni-plaintext\"><pre>1</pre></div></td><td><div class=\"dni-plaintext\"><pre>99000</pre></div></td><td><div class=\"dni-plaintext\"><pre>170000</pre></div></td></tr><tr><td><i><div class=\"dni-plaintext\"><pre>3</pre></div></i></td><td>Mean</td><td><div class=\"dni-plaintext\"><pre>3.5</pre></div></td><td><div class=\"dni-plaintext\"><pre>138333.33</pre></div></td><td><div class=\"dni-plaintext\"><pre>197500</pre></div></td></tr></tbody></table><style>\r\n",
       ".dni-code-hint {\r\n",
       "    font-style: italic;\r\n",
       "    overflow: hidden;\r\n",
       "    white-space: nowrap;\r\n",
       "}\r\n",
       ".dni-treeview {\r\n",
       "    white-space: nowrap;\r\n",
       "}\r\n",
       ".dni-treeview td {\r\n",
       "    vertical-align: top;\r\n",
       "    text-align: start;\r\n",
       "}\r\n",
       "details.dni-treeview {\r\n",
       "    padding-left: 1em;\r\n",
       "}\r\n",
       "table td {\r\n",
       "    text-align: start;\r\n",
       "}\r\n",
       "table tr { \r\n",
       "    vertical-align: top; \r\n",
       "    margin: 0em 0px;\r\n",
       "}\r\n",
       "table tr td pre \r\n",
       "{ \r\n",
       "    vertical-align: top !important; \r\n",
       "    margin: 0em 0px !important;\r\n",
       "} \r\n",
       "table th {\r\n",
       "    text-align: start;\r\n",
       "}\r\n",
       "</style>"
      ]
     },
     "metadata": {},
     "output_type": "display_data"
    }
   ],
   "source": [
    "dataFrame.Description()"
   ]
  },
  {
   "cell_type": "code",
   "execution_count": 7,
   "metadata": {},
   "outputs": [
    {
     "data": {
      "text/html": [
       "<table id=\"table_638579388113426979\"><thead><tr><th><i>index</i></th><th>Info</th><th>Id</th><th>Size</th><th>HistoricalPrice</th><th>CurrentPrice</th></tr></thead><tbody><tr><td><i><div class=\"dni-plaintext\"><pre>0</pre></div></i></td><td>DataType</td><td>System.Single</td><td>System.String</td><td>System.Single</td><td>System.Single</td></tr><tr><td><i><div class=\"dni-plaintext\"><pre>1</pre></div></i></td><td>Length (excluding null values)</td><td>6</td><td>6</td><td>6</td><td>6</td></tr></tbody></table><style>\r\n",
       ".dni-code-hint {\r\n",
       "    font-style: italic;\r\n",
       "    overflow: hidden;\r\n",
       "    white-space: nowrap;\r\n",
       "}\r\n",
       ".dni-treeview {\r\n",
       "    white-space: nowrap;\r\n",
       "}\r\n",
       ".dni-treeview td {\r\n",
       "    vertical-align: top;\r\n",
       "    text-align: start;\r\n",
       "}\r\n",
       "details.dni-treeview {\r\n",
       "    padding-left: 1em;\r\n",
       "}\r\n",
       "table td {\r\n",
       "    text-align: start;\r\n",
       "}\r\n",
       "table tr { \r\n",
       "    vertical-align: top; \r\n",
       "    margin: 0em 0px;\r\n",
       "}\r\n",
       "table tr td pre \r\n",
       "{ \r\n",
       "    vertical-align: top !important; \r\n",
       "    margin: 0em 0px !important;\r\n",
       "} \r\n",
       "table th {\r\n",
       "    text-align: start;\r\n",
       "}\r\n",
       "</style>"
      ]
     },
     "metadata": {},
     "output_type": "display_data"
    }
   ],
   "source": [
    "dataFrame.Info()"
   ]
  },
  {
   "cell_type": "code",
   "execution_count": 8,
   "metadata": {},
   "outputs": [
    {
     "data": {
      "text/html": [
       "<div><div></div><div></div><div><strong>Installed Packages</strong><ul><li><span>ScottPlot, 5.0.36</span></li></ul></div></div>"
      ]
     },
     "metadata": {},
     "output_type": "display_data"
    },
    {
     "data": {
      "text/plain": [
       "Loading extensions from `C:\\Users\\jongho\\.nuget\\packages\\skiasharp\\2.88.8\\interactive-extensions\\dotnet\\SkiaSharp.DotNet.Interactive.dll`"
      ]
     },
     "metadata": {},
     "output_type": "display_data"
    }
   ],
   "source": [
    "#r \"nuget:ScottPlot, 5.0.36\""
   ]
  },
  {
   "cell_type": "code",
   "execution_count": 9,
   "metadata": {},
   "outputs": [],
   "source": [
    "using Microsoft.DotNet.Interactive.Formatting;\n",
    "Formatter.Register(typeof(ScottPlot.Plot), (p, w) => \n",
    "    w.Write(((ScottPlot.Plot)p).GetImageHtml(400, 300)), HtmlFormatter.MimeType);"
   ]
  },
  {
   "cell_type": "code",
   "execution_count": 10,
   "metadata": {},
   "outputs": [],
   "source": [
    "using ScottPlot;\n",
    "using Microsoft.Data.Analysis;\n",
    "using System;\n",
    "using System.Linq;"
   ]
  },
  {
   "cell_type": "code",
   "execution_count": 20,
   "metadata": {},
   "outputs": [
    {
     "data": {
      "text/html": [
       "<table id=\"table_638580627026323771\"><thead><tr><th><i>index</i></th><th>Temperature</th><th>Humidity</th></tr></thead><tbody><tr><td><i><div class=\"dni-plaintext\"><pre>0</pre></div></i></td><td><div class=\"dni-plaintext\"><pre>-1.6834001590886154</pre></div></td><td><div class=\"dni-plaintext\"><pre>-1.0917413337583382</pre></div></td></tr><tr><td><i><div class=\"dni-plaintext\"><pre>1</pre></div></i></td><td><div class=\"dni-plaintext\"><pre>-1.1498177787986668</pre></div></td><td><div class=\"dni-plaintext\"><pre>-0.10283957985362013</pre></div></td></tr><tr><td><i><div class=\"dni-plaintext\"><pre>2</pre></div></i></td><td><div class=\"dni-plaintext\"><pre>-0.8363726720383262</pre></div></td><td><div class=\"dni-plaintext\"><pre>0</pre></div></td></tr><tr><td><i><div class=\"dni-plaintext\"><pre>3</pre></div></i></td><td><div class=\"dni-plaintext\"><pre>-0.6210203327336443</pre></div></td><td><div class=\"dni-plaintext\"><pre>0.050140640256060465</pre></div></td></tr><tr><td><i><div class=\"dni-plaintext\"><pre>4</pre></div></i></td><td><div class=\"dni-plaintext\"><pre>-0.32462542798585514</pre></div></td><td><div class=\"dni-plaintext\"><pre>0.3956887407208274</pre></div></td></tr><tr><td><i><div class=\"dni-plaintext\"><pre>5</pre></div></i></td><td><div class=\"dni-plaintext\"><pre>-0.27411834815243186</pre></div></td><td><div class=\"dni-plaintext\"><pre>0.40167617164630254</pre></div></td></tr><tr><td><i><div class=\"dni-plaintext\"><pre>6</pre></div></i></td><td><div class=\"dni-plaintext\"><pre>-0.04333373440584798</pre></div></td><td><div class=\"dni-plaintext\"><pre>0.42405572693052496</pre></div></td></tr><tr><td><i><div class=\"dni-plaintext\"><pre>7</pre></div></i></td><td><div class=\"dni-plaintext\"><pre>0</pre></div></td><td><div class=\"dni-plaintext\"><pre>0.4425301353645186</pre></div></td></tr><tr><td><i><div class=\"dni-plaintext\"><pre>8</pre></div></i></td><td><div class=\"dni-plaintext\"><pre>0.0797271640411239</pre></div></td><td><div class=\"dni-plaintext\"><pre>0.6524557451030498</pre></div></td></tr><tr><td><i><div class=\"dni-plaintext\"><pre>9</pre></div></i></td><td><div class=\"dni-plaintext\"><pre>0.1400443441886663</pre></div></td><td><div class=\"dni-plaintext\"><pre>0.9220629683332809</pre></div></td></tr></tbody></table><style>\r\n",
       ".dni-code-hint {\r\n",
       "    font-style: italic;\r\n",
       "    overflow: hidden;\r\n",
       "    white-space: nowrap;\r\n",
       "}\r\n",
       ".dni-treeview {\r\n",
       "    white-space: nowrap;\r\n",
       "}\r\n",
       ".dni-treeview td {\r\n",
       "    vertical-align: top;\r\n",
       "    text-align: start;\r\n",
       "}\r\n",
       "details.dni-treeview {\r\n",
       "    padding-left: 1em;\r\n",
       "}\r\n",
       "table td {\r\n",
       "    text-align: start;\r\n",
       "}\r\n",
       "table tr { \r\n",
       "    vertical-align: top; \r\n",
       "    margin: 0em 0px;\r\n",
       "}\r\n",
       "table tr td pre \r\n",
       "{ \r\n",
       "    vertical-align: top !important; \r\n",
       "    margin: 0em 0px !important;\r\n",
       "} \r\n",
       "table th {\r\n",
       "    text-align: start;\r\n",
       "}\r\n",
       "</style>"
      ]
     },
     "metadata": {},
     "output_type": "display_data"
    }
   ],
   "source": [
    "ScottPlot.RandomDataGenerator generator = new ScottPlot.RandomDataGenerator();\n",
    "double[] tempData = generator.RandomWalk(10);\n",
    "double[] humidData = generator.RandomWalk(10);\n",
    "// double[] tempData = Generate.Random(10, 100);\n",
    "// double[] humidData = Generate.Random(10, 100);\n",
    "\n",
    "Array.Sort(tempData);\n",
    "Array.Sort(humidData);\n",
    "\n",
    "DoubleDataFrameColumn colTemp = new DoubleDataFrameColumn(\"Temperature\", tempData);\n",
    "DoubleDataFrameColumn colHumid = new DoubleDataFrameColumn(\"Humidity\", humidData);\n",
    "DataFrameColumn[] columns = { colTemp, colHumid };\n",
    "DataFrame df = new DataFrame(columns);\n",
    "\n",
    "// extract data into double arrays\n",
    "// double[] xs = Enumerable.Range(0, (int)df.Rows.Count).Select(row => Convert.ToDouble(df[\"Temperature\"][row])).ToArray();\n",
    "// double[] ys = Enumerable.Range(0, (int)df.Rows.Count).Select(row => Convert.ToDouble(df[\"Humidity\"][row])).ToArray();\n",
    "double[] xs = df[\"Temperature\"].Cast<double>().ToArray();\n",
    "double[] ys = df[\"Humidity\"].Cast<double>().ToArray();\n",
    "\n",
    "double[] dataX = { 1, 2, 3, 4, 5 };\n",
    "double[] dataY = { 1, 4, 9, 16, 25 };\n",
    "\n",
    "ScottPlot.Plot myPlot = new();\n",
    "myPlot.Add.Scatter(xs, ys);\n",
    "\n",
    "// myPlot.SavePng(\"quickstart.png\", 400, 300); // 이미지로 저장\n",
    "df"
   ]
  },
  {
   "cell_type": "code",
   "execution_count": 21,
   "metadata": {},
   "outputs": [
    {
     "data": {
      "text/html": [
       "<img src=\"data:image/png;base64,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\"></img>"
      ]
     },
     "metadata": {},
     "output_type": "display_data"
    }
   ],
   "source": [
    "myPlot"
   ]
  },
  {
   "cell_type": "code",
   "execution_count": 23,
   "metadata": {},
   "outputs": [
    {
     "data": {
      "text/html": [
       "<img src=\"data:image/png;base64,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\"></img>"
      ]
     },
     "metadata": {},
     "output_type": "display_data"
    }
   ],
   "source": [
    "ScottPlot.Plot myPlot1 = new();\n",
    "myPlot1.Add.Scatter(dataX, dataY);\n",
    "myPlot1"
   ]
  },
  {
   "cell_type": "code",
   "execution_count": null,
   "metadata": {},
   "outputs": [],
   "source": []
  }
 ],
 "metadata": {
  "kernelspec": {
   "display_name": ".NET (C#)",
   "language": "C#",
   "name": ".net-csharp"
  },
  "polyglot_notebook": {
   "kernelInfo": {
    "defaultKernelName": "csharp",
    "items": [
     {
      "aliases": [],
      "languageName": "csharp",
      "name": "csharp"
     }
    ]
   }
  }
 },
 "nbformat": 4,
 "nbformat_minor": 2
}
